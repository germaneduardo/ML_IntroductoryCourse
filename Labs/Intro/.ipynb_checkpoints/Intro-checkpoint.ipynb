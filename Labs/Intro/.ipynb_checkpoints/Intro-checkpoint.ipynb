{
 "cells": [
  {
   "cell_type": "markdown",
   "metadata": {},
   "source": [
    "<center>\n",
    "<img src=\"Escudo.jpg\" width=\"300px\" heigth=\"300px\">    \n",
    "<h1>Simulación de Sistemas y Laboratorio</h1>\n",
    "<h2>UdeA</h2>\n",
    "<h3>2019-I</h3>\n",
    "</center>"
   ]
  },
  {
   "cell_type": "markdown",
   "metadata": {},
   "source": [
    "### Profesor: Julián D. Arias Londoño\n",
    "\n",
    "## Material introductorio para los laboratorios de Machine Learning\n",
    "\n",
    "Este material explica el manejo del entorno de trabajo de jupyter notebooks, librerías y dinámica para los laboratorios del curso incluye referencias, tips y buenas prácticas. Este material cubre los siguiente temas:\n",
    "\n",
    "1. Instalación y manejo de jupyter\n",
    "2. Manejo de vectores y matrices en NumPy\n",
    "3. Manejo de gráficas en matplotlib\n",
    "4. Manejo de dataframes en pandas\n",
    "3. Ejercicios\n",
    "\n",
    "![alt](jupyter_python_numpy.png)\n",
    "\n",
    "***"
   ]
  },
  {
   "cell_type": "markdown",
   "metadata": {},
   "source": [
    "## 1. Instalación de jupyter\n",
    "\n",
    "Existen 3 formas muy populares de correr notebook de jupyter:\n",
    "\n",
    "- Distribuición de [Anaconda](https://www.anaconda.com/). (Recomendado para Windows y macOs)\n",
    "- Administrador de paquetes pip. (Recomendado para Linux)\n",
    "- Contenedor en docker"
   ]
  },
  {
   "cell_type": "markdown",
   "metadata": {},
   "source": [
    "### Manejo de Jupyter\n",
    "\n",
    "Es un entorno de trabajo que permite integrar en un mismo \"notebook\" código por defecto en Python (también aplica para otros lenguajes), texto, gráfica e imágenes a cada bloque se conoce como *celda*. Es utilizado ampliamente en análisis numérico, estadística y machine learning, entre otros campos de la informática y las matemáticas.\n",
    "\n",
    "> Las celdas de texto: está escrita con *Markdown*, un lenguaje de etiquetado más legible para la decoración de texto, se puede hacer desde encabezados, LaTeX, simbolos matematicos hasta listas enumeradas, entre otros.  \n",
    "\n",
    "> Las celdas de código: son ejecutables, es decir, se pueden correr individualmente (con ctrl + enter o desde el menu Cell -> Run Cells)\n",
    "\n",
    "Para saber cuándo una celda se ha ejecutado, está en ello o ya ha terminado, podemos mirar la cabecera de la celda:\n",
    "- Si solamente aparece In [ ], quiere decir que aún no se ha ejecutado.\n",
    "- Si lo que tenemos es In [\\*], entonces está en ejecución.\n",
    "- Si aparece un número entre los corchetes, ya ha terminado de ejecutar. \n",
    "\n",
    "Por último, sabemos que cada se ejecuta por separado esto implica que **la ejecución se realiza de arriba hacia abajo en orden**, de este modo ya están cargadas las librerías o variables previamente. Es así como evitamos problemas de importación de librerías o variables sin definir.\n",
    "\n"
   ]
  },
  {
   "cell_type": "code",
   "execution_count": 1,
   "metadata": {},
   "outputs": [
    {
     "ename": "NameError",
     "evalue": "name 'x' is not defined",
     "output_type": "error",
     "traceback": [
      "\u001b[0;31m---------------------------------------------------------------------------\u001b[0m",
      "\u001b[0;31mNameError\u001b[0m                                 Traceback (most recent call last)",
      "\u001b[0;32m<ipython-input-1-fc17d851ef81>\u001b[0m in \u001b[0;36m<module>\u001b[0;34m\u001b[0m\n\u001b[0;32m----> 1\u001b[0;31m \u001b[0mprint\u001b[0m\u001b[0;34m(\u001b[0m\u001b[0mx\u001b[0m\u001b[0;34m)\u001b[0m\u001b[0;34m\u001b[0m\u001b[0;34m\u001b[0m\u001b[0m\n\u001b[0m",
      "\u001b[0;31mNameError\u001b[0m: name 'x' is not defined"
     ]
    }
   ],
   "source": [
    "print(x)"
   ]
  },
  {
   "cell_type": "code",
   "execution_count": 4,
   "metadata": {},
   "outputs": [],
   "source": [
    "x = np.zeros(10)"
   ]
  },
  {
   "cell_type": "markdown",
   "metadata": {},
   "source": [
    "!Ahora es tu turno!\n",
    "Haz click en la opción + y añade una celda de texto, observa que sea en Markdown. \n",
    "\n",
    "Luego ejecutamos una celda de código con lo siguiente:\n",
    "\n",
    "    import numpy as np\n",
    "    x = np.zeros(10)\n",
    "    print(x)"
   ]
  },
  {
   "cell_type": "markdown",
   "metadata": {},
   "source": [
    "Hola mundo\n"
   ]
  },
  {
   "cell_type": "code",
   "execution_count": 3,
   "metadata": {},
   "outputs": [
    {
     "name": "stdout",
     "output_type": "stream",
     "text": [
      "[0. 0. 0. 0. 0. 0. 0. 0. 0. 0.]\n"
     ]
    }
   ],
   "source": [
    "import numpy as np\n",
    "x = np.zeros(10)\n",
    "print(x)"
   ]
  },
  {
   "cell_type": "markdown",
   "metadata": {},
   "source": [
    "## 2. Manejo vectores y matrices en NumPy\n",
    "\n",
    "NumPy es un paquete que proporciona herramientas y técnicas para manipular estructuras de datos con matrices, es mucho mejor que las listas de Python, tiene acceso y escritura más rápida. Posee una amplia colección de herramientas y técnicas que se pueden utilizar para resolver problemas mátematicos, además de que contiene todas las funciones para trabajar con matrices.\n",
    "\n",
    "A continuación encontrá algunas funciones muy útiles para los laboratorios, tales como:\n",
    "- Creación de matrices\n",
    "- Suma y resta de vectores\n",
    "- Producto de dos vectores\n",
    "- Producto de dos matrices\n",
    "- Multiplicación matricial\n",
    "- Indexación de matrices\n"
   ]
  },
  {
   "cell_type": "markdown",
   "metadata": {},
   "source": [
    "### Creación de matrices \n",
    "\n",
    "El paquete NumPy introdujo los arrays N-dimensionales, acontinuación se mostrará las rutinas más utilizadas en los laboratorios. (Más rutinas [aquí](https://docs.scipy.org/doc/numpy/reference/routines.array-creation.html))"
   ]
  },
  {
   "cell_type": "code",
   "execution_count": 38,
   "metadata": {},
   "outputs": [
    {
     "name": "stdout",
     "output_type": "stream",
     "text": [
      "Array de 10 ceros: [0. 0. 0. 0. 0. 0. 0. 0. 0. 0.]\n",
      "Array de 10 unos: [1. 1. 1. 1. 1. 1. 1. 1. 1. 1.]\n",
      "Array de 5 enteros:  [0 1 2 3 4]\n",
      "Array organizados unif.:  [0.   0.25 0.5  0.75 1.  ]\n",
      "Array de una lista:  [ 8.   6.  -5.  76.   9.7]\n"
     ]
    }
   ],
   "source": [
    "#Creacion de array de ceros y unos\n",
    "zeros=np.zeros(10)\n",
    "print(\"Array de 10 ceros:\", zeros)\n",
    "ones=np.ones(10)\n",
    "print(\"Array de 10 unos:\", ones)\n",
    "array1 = np.arange(5)  # Array de 5 enteros contando el 0\n",
    "print(\"Array de 5 enteros: \",array1)\n",
    "line = np.linspace(0.0, 1.0, 5) #start, stop, num de puntos\n",
    "print(\"Array organizados unif.: \",line)\n",
    "v1 = np.array([8,6,-5,76,9.7]) #Array de una lista\n",
    "print(\"Array de una lista: \",v1)"
   ]
  },
  {
   "cell_type": "markdown",
   "metadata": {},
   "source": [
    "#### Ejercicio:  Crear array de ceros con dimension 3x2:"
   ]
  },
  {
   "cell_type": "code",
   "execution_count": 6,
   "metadata": {},
   "outputs": [
    {
     "name": "stdout",
     "output_type": "stream",
     "text": [
      "[[0. 0.]\n",
      " [0. 0.]\n",
      " [0. 0.]]\n"
     ]
    }
   ],
   "source": [
    "ceros2x3 = np.zeros((3,2))\n",
    "print(ceros2x3)"
   ]
  },
  {
   "cell_type": "code",
   "execution_count": 39,
   "metadata": {},
   "outputs": [
    {
     "name": "stdout",
     "output_type": "stream",
     "text": [
      "v1:  [ 3 -1  2]\n",
      "v2:  [ 2 -1  3]\n"
     ]
    }
   ],
   "source": [
    "# Inicializar un vector manualmente de 1D\n",
    "v1 = np.array([3,-1,2]) #Array de una lista\n",
    "v2= np.array([2,-1,3])\n",
    "print(\"v1: \",v1)\n",
    "print(\"v2: \",v2)"
   ]
  },
  {
   "cell_type": "code",
   "execution_count": 40,
   "metadata": {},
   "outputs": [
    {
     "name": "stdout",
     "output_type": "stream",
     "text": [
      "[ 5 -2  5]\n"
     ]
    }
   ],
   "source": [
    "# Suma y resta de vectores\n",
    "suma1 = v1 + v2 #(para la resta usamos -)\n",
    "print(suma1)\n"
   ]
  },
  {
   "cell_type": "code",
   "execution_count": 41,
   "metadata": {},
   "outputs": [
    {
     "name": "stdout",
     "output_type": "stream",
     "text": [
      "[6 1 6]\n",
      "13\n",
      "13\n"
     ]
    }
   ],
   "source": [
    "# producto elemento a elemento\n",
    "prod1 = v1*v2\n",
    "print (prod1)\n",
    "\n",
    "#Producto matricial\n",
    "prod1 = np.dot(v1,v2)\n",
    "print (prod1)\n",
    "\n",
    "prod2 = v1 @ v2\n",
    "print(prod2)\n"
   ]
  },
  {
   "cell_type": "code",
   "execution_count": 14,
   "metadata": {},
   "outputs": [
    {
     "name": "stdout",
     "output_type": "stream",
     "text": [
      "[[1.  2.  3. ]\n",
      " [0.5 0.3 2.1]]\n"
     ]
    }
   ],
   "source": [
    "# Indexar una matriz manualmente 2x3\n",
    "m1 = np.array([[1,2,3],[0.5,0.3,2.1]])\n",
    "print (m1)\n"
   ]
  },
  {
   "cell_type": "markdown",
   "metadata": {},
   "source": [
    "¿Cuántas filas y columnas tiene la variable m1?"
   ]
  },
  {
   "cell_type": "code",
   "execution_count": 80,
   "metadata": {},
   "outputs": [
    {
     "name": "stdout",
     "output_type": "stream",
     "text": [
      "Shape m1 (2, 3)\n"
     ]
    }
   ],
   "source": [
    "print(\"Shape m1\",m1.shape)"
   ]
  },
  {
   "cell_type": "code",
   "execution_count": 94,
   "metadata": {},
   "outputs": [
    {
     "name": "stdout",
     "output_type": "stream",
     "text": [
      "Shape m2 (3, 2)\n",
      "[[1 2]\n",
      " [2 1]\n",
      " [3 1]]\n"
     ]
    }
   ],
   "source": [
    "m2 = np.array([[1,2],[2,1],[3,1]]) # [3x2]\n",
    "print (\"Shape m2\",np.shape(m2))\n",
    "print(m2)"
   ]
  },
  {
   "cell_type": "code",
   "execution_count": 95,
   "metadata": {},
   "outputs": [
    {
     "name": "stdout",
     "output_type": "stream",
     "text": [
      "[[28.  14. ]\n",
      " [ 7.4  3.4]]\n",
      "[[28.  14. ]\n",
      " [ 7.4  3.4]]\n"
     ]
    }
   ],
   "source": [
    "#Producto de dos matrices\n",
    "print (np.dot(m1,m2))\n",
    "print(m1@m2)"
   ]
  },
  {
   "cell_type": "code",
   "execution_count": 125,
   "metadata": {},
   "outputs": [
    {
     "name": "stdout",
     "output_type": "stream",
     "text": [
      "(2, 2)\n",
      "[[1 4]\n",
      " [4 1]]\n"
     ]
    }
   ],
   "source": [
    "#Producto elemento a elemento\n",
    "m3 = np.array([[1,2],[2,1]]) # [3x2]\n",
    "print (np.shape(m3))\n",
    "print(m3*m3)"
   ]
  },
  {
   "cell_type": "markdown",
   "metadata": {},
   "source": [
    "¿Por qué el siguiente código produce error? "
   ]
  },
  {
   "cell_type": "code",
   "execution_count": 96,
   "metadata": {},
   "outputs": [
    {
     "ename": "ValueError",
     "evalue": "operands could not be broadcast together with shapes (2,3) (3,2) ",
     "output_type": "error",
     "traceback": [
      "\u001b[0;31m---------------------------------------------------------------------------\u001b[0m",
      "\u001b[0;31mValueError\u001b[0m                                Traceback (most recent call last)",
      "\u001b[0;32m<ipython-input-96-805b2c15c37f>\u001b[0m in \u001b[0;36m<module>\u001b[0;34m\u001b[0m\n\u001b[0;32m----> 1\u001b[0;31m \u001b[0mprint\u001b[0m \u001b[0;34m(\u001b[0m\u001b[0mm1\u001b[0m\u001b[0;34m*\u001b[0m\u001b[0mm2\u001b[0m\u001b[0;34m)\u001b[0m\u001b[0;34m\u001b[0m\u001b[0;34m\u001b[0m\u001b[0m\n\u001b[0m",
      "\u001b[0;31mValueError\u001b[0m: operands could not be broadcast together with shapes (2,3) (3,2) "
     ]
    }
   ],
   "source": [
    "print (m1*m2)"
   ]
  },
  {
   "cell_type": "markdown",
   "metadata": {},
   "source": [
    "Se debe organizar las dimensiones de la matriz para hacer la multiplicación elemento a elemento correctamente. ¿Cómo se puede solucionar?"
   ]
  },
  {
   "cell_type": "code",
   "execution_count": 97,
   "metadata": {},
   "outputs": [
    {
     "name": "stdout",
     "output_type": "stream",
     "text": [
      "New shape m1 (3, 2)\n",
      "[[ 1.   1. ]\n",
      " [18.   0.3]\n",
      " [ 9.   2.1]]\n"
     ]
    }
   ],
   "source": [
    "m1_new = m1.T\n",
    "print(\"New shape m1\", m1_new.shape)\n",
    "print(m1_new*m2)"
   ]
  },
  {
   "cell_type": "code",
   "execution_count": 98,
   "metadata": {},
   "outputs": [
    {
     "name": "stdout",
     "output_type": "stream",
     "text": [
      "New shape m1 (3, 2)\n",
      "[[ 1.  18. ]\n",
      " [ 6.   0.5]\n",
      " [ 0.9  2.1]]\n"
     ]
    }
   ],
   "source": [
    "m1_new2 = m1.reshape((3,2))\n",
    "print(\"New shape m1\", m1_new2.shape)\n",
    "print(m1_new2*m2)"
   ]
  },
  {
   "cell_type": "code",
   "execution_count": 109,
   "metadata": {
    "scrolled": true
   },
   "outputs": [
    {
     "name": "stdout",
     "output_type": "stream",
     "text": [
      "New shape m1 (3, 2)\n",
      "[[ 1.  18. ]\n",
      " [ 6.   0.5]\n",
      " [ 0.9  2.1]]\n"
     ]
    }
   ],
   "source": [
    "m1_new2 = m1.reshape((3,-1))\n",
    "print(\"New shape m1\", m1_new2.shape)\n",
    "print(m1_new2*m2)"
   ]
  },
  {
   "cell_type": "markdown",
   "metadata": {},
   "source": [
    "- ¿Hay alguna diferencia con la matriz m1 después de hacer el reshape?"
   ]
  },
  {
   "cell_type": "markdown",
   "metadata": {},
   "source": [
    "_Reshape_: Asigna una nueva forma a la matriz ya sea un entero para una dimensión o una tupla para N-Dimensiones"
   ]
  },
  {
   "cell_type": "code",
   "execution_count": 111,
   "metadata": {},
   "outputs": [
    {
     "data": {
      "text/plain": [
       "array([[0, 1],\n",
       "       [2, 3],\n",
       "       [4, 5]])"
      ]
     },
     "execution_count": 111,
     "metadata": {},
     "output_type": "execute_result"
    }
   ],
   "source": [
    "a = np.arange(6).reshape((3, 2))\n",
    "a"
   ]
  },
  {
   "cell_type": "code",
   "execution_count": 114,
   "metadata": {},
   "outputs": [
    {
     "data": {
      "text/plain": [
       "array([[[0, 1]],\n",
       "\n",
       "       [[2, 3]],\n",
       "\n",
       "       [[4, 5]]])"
      ]
     },
     "execution_count": 114,
     "metadata": {},
     "output_type": "execute_result"
    }
   ],
   "source": [
    "b = np.arange(6).reshape((3,1,2))\n",
    "b"
   ]
  },
  {
   "cell_type": "code",
   "execution_count": 123,
   "metadata": {},
   "outputs": [
    {
     "data": {
      "text/plain": [
       "array([0, 1, 2, 3, 4, 5])"
      ]
     },
     "execution_count": 123,
     "metadata": {},
     "output_type": "execute_result"
    }
   ],
   "source": [
    "b = b.reshape((6))\n",
    "b"
   ]
  },
  {
   "cell_type": "code",
   "execution_count": 117,
   "metadata": {},
   "outputs": [
    {
     "data": {
      "text/plain": [
       "array([[[[ 0,  1],\n",
       "         [ 2,  3]],\n",
       "\n",
       "        [[ 4,  5],\n",
       "         [ 6,  7]]],\n",
       "\n",
       "\n",
       "       [[[ 8,  9],\n",
       "         [10, 11]],\n",
       "\n",
       "        [[12, 13],\n",
       "         [14, 15]]],\n",
       "\n",
       "\n",
       "       [[[16, 17],\n",
       "         [18, 19]],\n",
       "\n",
       "        [[20, 21],\n",
       "         [22, 23]]]])"
      ]
     },
     "execution_count": 117,
     "metadata": {},
     "output_type": "execute_result"
    }
   ],
   "source": [
    "c = np.arange(24).reshape((3,2,2,2))\n",
    "c"
   ]
  },
  {
   "cell_type": "markdown",
   "metadata": {},
   "source": [
    "¡Cuidado con la asignación de variables! Python usa variables referenciadas. Si se requiere hacer una copia se debe usar el método \".copy\". Dependiendo de si se trabaja con python 2.7 o 3, la sintaxis puede ser diferente."
   ]
  },
  {
   "cell_type": "code",
   "execution_count": 91,
   "metadata": {},
   "outputs": [
    {
     "name": "stdout",
     "output_type": "stream",
     "text": [
      "[[1.  9.  3. ]\n",
      " [0.5 0.3 2.1]]\n",
      "---\n",
      "[[1.  9.  3. ]\n",
      " [0.5 0.3 2.1]]\n",
      "---\n",
      "[[1.  9.  3. ]\n",
      " [0.5 9.  2.1]]\n"
     ]
    }
   ],
   "source": [
    "m4 = m1\n",
    "m4[0,1] = 9\n",
    "print (m1)\n",
    "print (\"---\")\n",
    "m5 = np.copy(m1)\n",
    "m5[1,1] = 9\n",
    "print (m4)\n",
    "print (\"---\")\n",
    "print (m5)"
   ]
  },
  {
   "cell_type": "markdown",
   "metadata": {},
   "source": [
    "### Indexación\n",
    "\n",
    "Para hacer una indexación en matrices se accede con los corchetes y siempre se define así: [filas,columnas]. Observa que la separación se realiza con una coma ( , )\n",
    "\n",
    "    x = matrix[filas, columnas]\n",
    "    \n",
    "Si deseo escoger entre la fila x hasta y debe ser separado por dos puntos **:**, de la siguiente forma:\n",
    "\n",
    "    x = matrix[x:y,]\n",
    "    \n",
    "\n",
    "De la misma forma aplica para las columnas, si quiero la primera columna:\n",
    "\n",
    "    x = matrix[0:2,0:1]\n",
    "    \n",
    "Acceder a los últimas posiciones:\n",
    "\n",
    "    x = matrix[0:-1,0:-1]\n",
    "    \n"
   ]
  },
  {
   "cell_type": "code",
   "execution_count": 129,
   "metadata": {},
   "outputs": [
    {
     "name": "stdout",
     "output_type": "stream",
     "text": [
      "Original m2\n",
      "[[1 2]\n",
      " [2 1]\n",
      " [3 1]]\n",
      "----\n",
      "Nuevo m2, dos primeras filas\n",
      "[[1 2]\n",
      " [2 1]]\n",
      "Nuevo m2, dos primeras filas y primera columna\n",
      "[[1]\n",
      " [2]]\n"
     ]
    }
   ],
   "source": [
    "print(\"Original m2\")\n",
    "print(m2)\n",
    "print(\"----\")\n",
    "new_m2 = m2[0:2,]\n",
    "print(\"Nuevo m2, dos primeras filas\")\n",
    "print(new_m2)\n",
    "new_m2 = m2[0:2,0:1]\n",
    "print(\"Nuevo m2, dos primeras filas y primera columna\")\n",
    "print(new_m2)"
   ]
  },
  {
   "cell_type": "code",
   "execution_count": 130,
   "metadata": {},
   "outputs": [
    {
     "data": {
      "text/plain": [
       "array([ 1., 18.,  9.])"
      ]
     },
     "execution_count": 130,
     "metadata": {},
     "output_type": "execute_result"
    }
   ],
   "source": [
    "m1[0,:]*m2[:,0]"
   ]
  },
  {
   "cell_type": "code",
   "execution_count": 128,
   "metadata": {},
   "outputs": [
    {
     "name": "stdout",
     "output_type": "stream",
     "text": [
      "[[1]\n",
      " [2]\n",
      " [3]]\n",
      "----\n",
      "[[ 1.  9.  3.]\n",
      " [ 2. 18.  6.]\n",
      " [ 3. 27.  9.]]\n"
     ]
    }
   ],
   "source": [
    "b = m2[:,0][:, np.newaxis]\n",
    "print (b)\n",
    "print (\"----\")\n",
    "print( m1[0,:]*b)"
   ]
  },
  {
   "cell_type": "markdown",
   "metadata": {},
   "source": [
    "Ejercicio: Obtener las últimas dos filas de siguiente vector:\n",
    "\n",
    "    m4 = np.arange(5,25).reshape((10,2))\n",
    "    m4"
   ]
  },
  {
   "cell_type": "code",
   "execution_count": 7,
   "metadata": {},
   "outputs": [
    {
     "data": {
      "text/plain": [
       "array([[ 5,  6],\n",
       "       [ 7,  8],\n",
       "       [ 9, 10],\n",
       "       [11, 12],\n",
       "       [13, 14],\n",
       "       [15, 16],\n",
       "       [17, 18],\n",
       "       [19, 20],\n",
       "       [21, 22],\n",
       "       [23, 24]])"
      ]
     },
     "execution_count": 7,
     "metadata": {},
     "output_type": "execute_result"
    }
   ],
   "source": [
    "m4 = np.arange(5,25).reshape((10,2))\n",
    "m4"
   ]
  },
  {
   "cell_type": "code",
   "execution_count": 9,
   "metadata": {},
   "outputs": [
    {
     "data": {
      "text/plain": [
       "array([[22],\n",
       "       [24]])"
      ]
     },
     "execution_count": 9,
     "metadata": {},
     "output_type": "execute_result"
    }
   ],
   "source": [
    "last_m2 =  m4[-2:,-1:]\n",
    "last_m2"
   ]
  },
  {
   "cell_type": "markdown",
   "metadata": {},
   "source": [
    "## Concatenar vectores y matrices\n"
   ]
  },
  {
   "cell_type": "code",
   "execution_count": 153,
   "metadata": {},
   "outputs": [
    {
     "name": "stdout",
     "output_type": "stream",
     "text": [
      "[[ 1  5  9]\n",
      " [ 2  6 10]]\n",
      "---\n",
      "[[ 3  7 11]\n",
      " [ 4  8 12]]\n"
     ]
    }
   ],
   "source": [
    "a = np.array([[1,5,9], [2,6,10]])\n",
    "b = np.array([[3,7,11], [4,8,12]])\n",
    "print(a)\n",
    "print(\"---\")\n",
    "print(b)"
   ]
  },
  {
   "cell_type": "code",
   "execution_count": 147,
   "metadata": {},
   "outputs": [
    {
     "data": {
      "text/plain": [
       "array([[ 1,  5,  9],\n",
       "       [ 2,  6, 10],\n",
       "       [ 3,  7, 11],\n",
       "       [ 4,  8, 12]])"
      ]
     },
     "execution_count": 147,
     "metadata": {},
     "output_type": "execute_result"
    }
   ],
   "source": [
    "np.concatenate((a,b), axis=0)"
   ]
  },
  {
   "cell_type": "code",
   "execution_count": 148,
   "metadata": {},
   "outputs": [
    {
     "data": {
      "text/plain": [
       "array([[ 1,  5,  9,  3,  7, 11],\n",
       "       [ 2,  6, 10,  4,  8, 12]])"
      ]
     },
     "execution_count": 148,
     "metadata": {},
     "output_type": "execute_result"
    }
   ],
   "source": [
    "np.concatenate((a, b), axis=1)"
   ]
  },
  {
   "cell_type": "code",
   "execution_count": 149,
   "metadata": {},
   "outputs": [
    {
     "data": {
      "text/plain": [
       "array([[ 1,  5,  9],\n",
       "       [ 2,  6, 10],\n",
       "       [ 3,  7, 11],\n",
       "       [ 4,  8, 12]])"
      ]
     },
     "execution_count": 149,
     "metadata": {},
     "output_type": "execute_result"
    }
   ],
   "source": [
    "np.vstack((a, b))"
   ]
  },
  {
   "cell_type": "code",
   "execution_count": 155,
   "metadata": {},
   "outputs": [
    {
     "data": {
      "text/plain": [
       "array([[ 1,  5,  9],\n",
       "       [ 2,  6, 10],\n",
       "       [ 3,  7, 11],\n",
       "       [ 4,  8, 12]])"
      ]
     },
     "execution_count": 155,
     "metadata": {},
     "output_type": "execute_result"
    }
   ],
   "source": [
    "np.concatenate((a.reshape(2,3), b.reshape(2,3)))"
   ]
  },
  {
   "cell_type": "markdown",
   "metadata": {},
   "source": [
    "### Inicializar vectores aleatorios"
   ]
  },
  {
   "cell_type": "code",
   "execution_count": 10,
   "metadata": {},
   "outputs": [
    {
     "name": "stdout",
     "output_type": "stream",
     "text": [
      "[[0.99018026 0.40660626 0.21181987 0.15471884]\n",
      " [0.61474198 0.74443977 0.03176095 0.8201571 ]\n",
      " [0.98005162 0.08186336 0.83224081 0.93759703]]\n",
      "----\n",
      "[[ 1  3  5]\n",
      " [ 7  9 11]]\n"
     ]
    }
   ],
   "source": [
    "a = np.random.rand(10,8)\n",
    "b = np.array([[1,2,3,4,5,6],[7,8,9,10,11,12],[13,14,15,16,17,18]])\n",
    "print (a[0:3,4:8])\n",
    "print (\"----\")\n",
    "print (b[0:2,0:6:2])"
   ]
  },
  {
   "cell_type": "code",
   "execution_count": 11,
   "metadata": {},
   "outputs": [
    {
     "data": {
      "text/plain": [
       "array([[0.7277892 , 0.56657978],\n",
       "       [0.52163831, 0.46048097],\n",
       "       [0.97855744, 0.90836715]])"
      ]
     },
     "execution_count": 11,
     "metadata": {},
     "output_type": "execute_result"
    }
   ],
   "source": [
    " a[np.ix_([1,3,4],[0,2])]"
   ]
  },
  {
   "cell_type": "code",
   "execution_count": 12,
   "metadata": {},
   "outputs": [
    {
     "name": "stdout",
     "output_type": "stream",
     "text": [
      "[[0.95177349 0.25354801 0.42724629]\n",
      " [0.7277892  0.95225475 0.56657978]\n",
      " [0.5756655  0.02240131 0.86683036]\n",
      " [0.52163831 0.15949993 0.46048097]\n",
      " [0.97855744 0.88353337 0.90836715]\n",
      " [0.12126599 0.98253881 0.47558899]\n",
      " [0.03225071 0.54943183 0.63218104]\n",
      " [0.22250915 0.991721   0.62608233]\n",
      " [0.2240619  0.46583278 0.32011008]\n",
      " [0.96649129 0.23602054 0.77531428]]\n"
     ]
    }
   ],
   "source": [
    "v = np.random.permutation(8)\n",
    "print (a[:,v>4])"
   ]
  },
  {
   "cell_type": "markdown",
   "metadata": {},
   "source": [
    "#### Métodos importantes"
   ]
  },
  {
   "cell_type": "code",
   "execution_count": 15,
   "metadata": {},
   "outputs": [
    {
     "name": "stdout",
     "output_type": "stream",
     "text": [
      "3.0\n",
      "[1. 2. 3.]\n",
      "[3.  2.1]\n"
     ]
    }
   ],
   "source": [
    "print (m1.max())\n",
    "\n",
    "print (m1.max(0))\n",
    "\n",
    "print (m1.max(1))\n",
    "\n",
    "#similar con min"
   ]
  },
  {
   "cell_type": "code",
   "execution_count": 42,
   "metadata": {},
   "outputs": [
    {
     "name": "stdout",
     "output_type": "stream",
     "text": [
      "[1. 2. 3.]\n",
      "[0.5 0.3 2.1]\n"
     ]
    }
   ],
   "source": [
    "for x in m1:\n",
    "    print(x)"
   ]
  },
  {
   "cell_type": "code",
   "execution_count": null,
   "metadata": {},
   "outputs": [],
   "source": [
    "#ones\n",
    "\n",
    "#diag\n",
    "\n",
    "#unique\n",
    "\n",
    "#linalg.inv #Inversa de matriz\n",
    "\n",
    "#linalg.svd #Descomposición en valores singulares\n",
    "\n",
    "#logical_and #Elemento a elelemto\n",
    "\n",
    "#logical_or #Elemento a elelemto\n",
    "\n",
    "print(np.mean(a, axis=0))\n",
    "print (\"----\")\n",
    "print (np.mean(a, axis=1))"
   ]
  },
  {
   "cell_type": "markdown",
   "metadata": {},
   "source": [
    "----------------------------------"
   ]
  },
  {
   "cell_type": "markdown",
   "metadata": {},
   "source": [
    "## 3. Manejo de gráficas en Matplotlib"
   ]
  },
  {
   "cell_type": "markdown",
   "metadata": {},
   "source": [
    "Ahora utilizaremos la librería matplotlib para hacer algunos ejemplos de gráficas básicas:\n",
    "\n",
    "$$ y = x $$\n",
    "\n",
    "$$ y = x^2 $$\n",
    "\n",
    "$$ y = x^3 $$\n",
    "\n",
    "Observemos que la variable x solo se carga en la primera celda de código. En adelante se puede usar sin necesidad de ser cargada de nuevo. En la gráfica de $y=x^3$ incluimos el título de la gráfica y los label para los ejes de la misma."
   ]
  },
  {
   "cell_type": "code",
   "execution_count": 16,
   "metadata": {},
   "outputs": [],
   "source": [
    "## Importar la librería de matplotlib\n",
    "import matplotlib.pyplot as plt"
   ]
  },
  {
   "cell_type": "code",
   "execution_count": 17,
   "metadata": {},
   "outputs": [
    {
     "data": {
      "image/png": "[encoded data removed]",
      "text/plain": [
       "<Figure size 432x288 with 1 Axes>"
      ]
     },
     "metadata": {
      "needs_background": "light"
     },
     "output_type": "display_data"
    }
   ],
   "source": [
    "#x = np.array([-2,-1,0,1,2])\n",
    "x = np.linspace(-10,10,100)\n",
    "#print x\n",
    "#f = \"hola\"\n",
    "#print f\n",
    "#Función y = ax + b\n",
    "y = 0.5*x\n",
    "plt.plot(x,y)\n",
    "plt.ylim(0,10)\n",
    "plt.xlim(0,10)\n",
    "plt.ylabel('y = x')\n",
    "plt.xlabel('x')\n",
    "plt.title(u\"Gráfica de una función lineal\\n\")\n",
    "plt.show()"
   ]
  },
  {
   "cell_type": "code",
   "execution_count": 20,
   "metadata": {},
   "outputs": [
    {
     "data": {
      "image/png": "[encoded data removed]",
      "text/plain": [
       "<Figure size 432x288 with 1 Axes>"
      ]
     },
     "metadata": {
      "needs_background": "light"
     },
     "output_type": "display_data"
    }
   ],
   "source": [
    "#y = x^2\n",
    "y = x**2\n",
    "plt.plot(x,y, c='green')\n",
    "#plt.xlim(-150,150)\n",
    "plt.show()"
   ]
  },
  {
   "cell_type": "code",
   "execution_count": 22,
   "metadata": {},
   "outputs": [
    {
     "data": {
      "image/png": "[encoded data removed]",
      "text/plain": [
       "<Figure size 432x288 with 1 Axes>"
      ]
     },
     "metadata": {
      "needs_background": "light"
     },
     "output_type": "display_data"
    }
   ],
   "source": [
    "y = x**3\n",
    "plt.plot(y)\n",
    "\n",
    "plt.ylabel(r'$y = x^3$')\n",
    "plt.xlabel(u'x - 100 números entre -10 y 10')\n",
    "plt.title(u'Ejemplos de introducción para el curso de Simulación de Sistemas - UdeA\\n')\n",
    "plt.show()"
   ]
  },
  {
   "cell_type": "markdown",
   "metadata": {},
   "source": [
    "Generando gráfica punteada"
   ]
  },
  {
   "cell_type": "code",
   "execution_count": 23,
   "metadata": {},
   "outputs": [
    {
     "data": {
      "image/png": "[encoded data removed]",
      "text/plain": [
       "<Figure size 432x288 with 1 Axes>"
      ]
     },
     "metadata": {
      "needs_background": "light"
     },
     "output_type": "display_data"
    }
   ],
   "source": [
    "y = x**3\n",
    "plt.plot(x,y, 'r--')\n",
    "plt.ylabel('y = x^3')\n",
    "plt.xlabel(u'x - 100 números entre -10 y 10')\n",
    "plt.title(u'Ejemplos de introducción para el curso de Simulación de Sistemas - UdeA\\n')\n",
    "plt.show()"
   ]
  },
  {
   "cell_type": "code",
   "execution_count": 24,
   "metadata": {},
   "outputs": [
    {
     "data": {
      "image/png": "[encoded data removed]",
      "text/plain": [
       "<Figure size 432x288 with 1 Axes>"
      ]
     },
     "metadata": {
      "needs_background": "light"
     },
     "output_type": "display_data"
    }
   ],
   "source": [
    "y = np.sin(x)\n",
    "plt.plot(y, 'bo')\n",
    "plt.ylabel('y = seno(x)')\n",
    "plt.xlabel(u'x - 100 números entre -10 y 10')\n",
    "plt.title(r'$s(t) = \\mathcal{A}\\sin(2 \\omega t)$', fontsize=16, color='r')\n",
    "plt.show()"
   ]
  },
  {
   "cell_type": "markdown",
   "metadata": {},
   "source": [
    "Dos gráficas en el mismo plano"
   ]
  },
  {
   "cell_type": "code",
   "execution_count": 25,
   "metadata": {},
   "outputs": [
    {
     "data": {
      "image/png": "[encoded data removed]",
      "text/plain": [
       "<Figure size 432x288 with 1 Axes>"
      ]
     },
     "metadata": {
      "needs_background": "light"
     },
     "output_type": "display_data"
    }
   ],
   "source": [
    "y2 = x\n",
    "y = np.sin(x)\n",
    "y1 = np.cos(x)\n",
    "plt.plot(y, 'r--', y1, 'b-')\n",
    "plt.ylabel('y = seno(x)')\n",
    "plt.xlabel(u'x - 100 números entre -10 y 10')\n",
    "plt.title(u'Ejemplos de introducción para el curso de Simulación de Sistemas - UdeA\\n')\n",
    "plt.show()"
   ]
  },
  {
   "cell_type": "markdown",
   "metadata": {},
   "source": [
    "Agregando el legend al gráfico"
   ]
  },
  {
   "cell_type": "code",
   "execution_count": 26,
   "metadata": {},
   "outputs": [
    {
     "data": {
      "image/png": "[encoded data removed]",
      "text/plain": [
       "<Figure size 432x288 with 1 Axes>"
      ]
     },
     "metadata": {
      "needs_background": "light"
     },
     "output_type": "display_data"
    }
   ],
   "source": [
    "y = np.sin(x)\n",
    "y1 = np.cos(x)\n",
    "plt.plot(y, 'r-', label='Seno')\n",
    "plt.plot(y1, 'b-', label='Coseno')\n",
    "plt.ylabel('y = seno(x)')\n",
    "plt.xlabel(u'x - 100 números entre -10 y 10')\n",
    "plt.title(u'Ejemplos de introducción para el curso de Simulación de Sistemas - UdeA\\n')\n",
    "plt.legend()\n",
    "plt.show()"
   ]
  },
  {
   "cell_type": "markdown",
   "metadata": {},
   "source": [
    "Diferentes gráficos"
   ]
  },
  {
   "cell_type": "code",
   "execution_count": 32,
   "metadata": {},
   "outputs": [
    {
     "data": {
      "image/png": "[encoded data removed]",
      "text/plain": [
       "<Figure size 648x216 with 3 Axes>"
      ]
     },
     "metadata": {
      "needs_background": "light"
     },
     "output_type": "display_data"
    }
   ],
   "source": [
    "values = np.array([1, 10, 100])\n",
    "ind = np.arange(3)\n",
    "plt.figure(1, figsize=(9, 3))\n",
    "\n",
    "plt.subplot(131)\n",
    "plt.bar(ind+1, values*np.random.rand(3))\n",
    "\n",
    "plt.subplot(132)\n",
    "plt.bar(ind+1, np.flipud(values))\n",
    "\n",
    "plt.subplot(133)\n",
    "plt.bar(ind+1, values)\n",
    "\n",
    "plt.suptitle(u'Ejemplos - Simulación de Sistemas y Lab.')\n",
    "plt.show()"
   ]
  },
  {
   "cell_type": "markdown",
   "metadata": {},
   "source": [
    "Gráficos para problemas de clasificación en Machine learning. Scatter plots"
   ]
  },
  {
   "cell_type": "code",
   "execution_count": 33,
   "metadata": {},
   "outputs": [
    {
     "data": {
      "image/png": "[encoded data removed]",
      "text/plain": [
       "<Figure size 432x288 with 1 Axes>"
      ]
     },
     "metadata": {
      "needs_background": "light"
     },
     "output_type": "display_data"
    }
   ],
   "source": [
    "#Creamos los datos artificiales\n",
    "\n",
    "mu1, sigma1 = 1.5, 0.1\n",
    "mu2, sigma2 = 1, 0.1\n",
    "N = 100\n",
    "\n",
    "x1 = mu1 + sigma1 * np.random.randn(N)\n",
    "x1line = np.linspace(0,2,N)\n",
    "x2 = mu2 + sigma2 * np.random.randn(N)\n",
    "x2line = np.linspace(3,5,N)\n",
    "\n",
    "#Decision boundary\n",
    "b = -2\n",
    "m = 3.5\n",
    "v = np.linspace(0,100,100)\n",
    "t = v*m + b\n",
    "\n",
    "plt.scatter(x1, x1line, c='b')\n",
    "plt.scatter(x2, x2line, c='r')\n",
    "plt.plot(v, t, 'c-')\n",
    "plt.ylim(-0.5, 6, 1)\n",
    "plt.xlim(0.5, 1.8, 0.2)\n",
    "plt.show()\n"
   ]
  },
  {
   "cell_type": "markdown",
   "metadata": {},
   "source": [
    "# Distribución de probabilidad normal univariada\n",
    "\n",
    "$P(x; \\mu, \\sigma) = \\frac{1}{\\sqrt{2\\pi}\\sigma }exp-\\frac{1}{2}\\frac{(x-\\mu)^2}{\\sigma^2}$\n",
    "\n",
    "Recordar que lo anterior conforma una familia paramétrica con todos los posibles valores de los parámetros $\\mu$ y $\\sigma$.\n",
    "\n",
    "Veamos la gráfica de la distribución de la función de densidad de probabilidad normal:\n",
    "\n"
   ]
  },
  {
   "cell_type": "code",
   "execution_count": 35,
   "metadata": {},
   "outputs": [
    {
     "data": {
      "image/png": "[encoded data removed]",
      "text/plain": [
       "<Figure size 432x288 with 1 Axes>"
      ]
     },
     "metadata": {
      "needs_background": "light"
     },
     "output_type": "display_data"
    }
   ],
   "source": [
    "\n",
    "mu, sigma = 0, 2\n",
    "\n",
    "#Generamos un conjunto de valores x\n",
    "\n",
    "x = np.linspace(-3,3,100)\n",
    "#los llevamos a la función de densidad de probabilidad normal\n",
    "p = ( 1/(np.sqrt(2*np.pi)*sigma) ) * np.exp( (-1/2) * ( ((x - mu) ** 2) / (sigma ** 2) ) )\n",
    "\n",
    "plt.plot(x, p, 'r--')\n",
    "plt.show()\n"
   ]
  },
  {
   "cell_type": "markdown",
   "metadata": {},
   "source": [
    "Notar que:\n",
    "\n",
    "1. El domino de la función de densidad de probabilidad normal es cualquier valor real, es decir, $(-\\infty, \\infty)$\n",
    "\n",
    "2. La gráfica es simétrica respecto a la media $\\mu$\n",
    "\n",
    "3. Tiene un máximo en la media $\\mu$\n",
    "\n",
    "4. Crece hasta la media $\\mu$ y decrece a partir de ella.\n",
    "\n",
    "5. En los puntos $\\mu - \\sigma$ y $\\mu + \\sigma$ presenta puntos de inflexión\n",
    "\n",
    "6. El eje de abscisas es una asíntota de la curva.\n",
    "\n",
    "El área bajo la curva es igual a la unidad.\n",
    "\n",
    "La probabilidad equivale al área encerrada bajo la curva.\n",
    "\n",
    "$p(\\mu - \\sigma \\lt X \\leq \\mu + \\sigma) = 0.6826 = 68.26\\%$\n",
    "\n",
    "$p(\\mu - 2\\sigma \\lt X \\leq \\mu + 2\\sigma) = 0.954 = 95.4\\%$\n",
    "\n",
    "$p(\\mu - 3\\sigma \\lt X \\leq \\mu + 3\\sigma) = 0.997 = 99.7\\%$\n",
    "\n"
   ]
  },
  {
   "cell_type": "markdown",
   "metadata": {},
   "source": [
    "Ahora vamos a mirar otros tipos de gráficas muy interesantes."
   ]
  },
  {
   "cell_type": "code",
   "execution_count": 36,
   "metadata": {},
   "outputs": [
    {
     "data": {
      "image/png": "[encoded data removed]",
      "text/plain": [
       "<Figure size 432x288 with 1 Axes>"
      ]
     },
     "metadata": {
      "needs_background": "light"
     },
     "output_type": "display_data"
    }
   ],
   "source": [
    "p = np.random.randn(1000)\n",
    "plt.hist(p, color = 'b')\n",
    "plt.show()"
   ]
  },
  {
   "cell_type": "code",
   "execution_count": 38,
   "metadata": {},
   "outputs": [
    {
     "name": "stdout",
     "output_type": "stream",
     "text": [
      "(150, 4)\n",
      "150\n"
     ]
    },
    {
     "data": {
      "image/png": "[encoded data removed]",
      "text/plain": [
       "<Figure size 432x288 with 1 Axes>"
      ]
     },
     "metadata": {
      "needs_background": "light"
     },
     "output_type": "display_data"
    }
   ],
   "source": [
    "from sklearn import datasets\n",
    "iris = datasets.load_iris()\n",
    "X, y = iris.data, iris.target\n",
    "print (np.shape(X))\n",
    "print (np.size(y))\n",
    "\n",
    "import matplotlib.pyplot as plt\n",
    "plt.title('Problema de 3 clases', fontsize=14)\n",
    "plt.xlabel(u'Característica 1')\n",
    "plt.ylabel(u'Característica 2')\n",
    "plt.scatter(X[:,0], X[:,3], c=y);\n",
    "plt.show()\n"
   ]
  },
  {
   "cell_type": "markdown",
   "metadata": {},
   "source": [
    "Leyendo una base de datos desde un archivo de texto plano!"
   ]
  },
  {
   "cell_type": "code",
   "execution_count": 41,
   "metadata": {},
   "outputs": [
    {
     "ename": "ModuleNotFoundError",
     "evalue": "No module named 'StringIO'",
     "output_type": "error",
     "traceback": [
      "\u001b[0;31m---------------------------------------------------------------------------\u001b[0m",
      "\u001b[0;31mModuleNotFoundError\u001b[0m                       Traceback (most recent call last)",
      "\u001b[0;32m<ipython-input-41-8cab08f3f141>\u001b[0m in \u001b[0;36m<module>\u001b[0;34m\u001b[0m\n\u001b[1;32m      4\u001b[0m \u001b[0;31m#np.mean(Y)\u001b[0m\u001b[0;34m\u001b[0m\u001b[0;34m\u001b[0m\u001b[0;34m\u001b[0m\u001b[0m\n\u001b[1;32m      5\u001b[0m \u001b[0;31m#np.std(Y)\u001b[0m\u001b[0;34m\u001b[0m\u001b[0;34m\u001b[0m\u001b[0;34m\u001b[0m\u001b[0m\n\u001b[0;32m----> 6\u001b[0;31m \u001b[0;32mimport\u001b[0m \u001b[0mStringIO\u001b[0m \u001b[0;32mas\u001b[0m \u001b[0mio\u001b[0m\u001b[0;31m# StringIO behaves like a file object\u001b[0m\u001b[0;34m\u001b[0m\u001b[0;34m\u001b[0m\u001b[0m\n\u001b[0m\u001b[1;32m      7\u001b[0m \u001b[0;31m#c = StringIO(\"0 1\\n2 3\")\u001b[0m\u001b[0;34m\u001b[0m\u001b[0;34m\u001b[0m\u001b[0;34m\u001b[0m\u001b[0m\n\u001b[1;32m      8\u001b[0m \u001b[0;31m#print np.loadtxt(c)\u001b[0m\u001b[0;34m\u001b[0m\u001b[0;34m\u001b[0m\u001b[0;34m\u001b[0m\u001b[0m\n",
      "\u001b[0;31mModuleNotFoundError\u001b[0m: No module named 'StringIO'"
     ]
    }
   ],
   "source": [
    "#db = np.loadtxt('DB.txt',delimiter='\\t')  # Assuming tab-delimiter\n",
    "#X = db[:,0:12] # fila1 = db[4,0:12]\n",
    "#Y = db[:,12]\n",
    "#np.mean(Y)\n",
    "#np.std(Y)\n",
    "# StringIO behaves like a file object\n",
    "#c = StringIO(\"0 1\\n2 3\")\n",
    "#print np.loadtxt(c)\n",
    "c = StringIO(\"1,0,2\\n3,0,4\")\n",
    "z = np.loadtxt(c, delimiter=',')\n",
    "print (z)\n",
    "print ('---')\n",
    "c = StringIO(\"1,0,2\\n3,0,4\")\n",
    "x, y = np.loadtxt(c, delimiter=',', usecols=(0, 2), unpack=True)\n",
    "print (x,y)"
   ]
  },
  {
   "cell_type": "markdown",
   "metadata": {},
   "source": [
    "## Estructuras de datos en Python"
   ]
  },
  {
   "cell_type": "code",
   "execution_count": null,
   "metadata": {},
   "outputs": [],
   "source": [
    "# Tuplas\n",
    "tup = (1, \"hola\", 3)\n",
    "print (tup[0])\n",
    "#tup[1] = 2    #Esto es un error\n",
    "\n",
    "# Listas\n",
    "\n",
    "lista = [2, 3, 2.5, \"Hola\"]\n",
    "print (lista[2])\n",
    "lista[2] = \"nuevo\"\n",
    "print (lista[2])\n",
    "# Diccionarios\n",
    "\n",
    "dic = {\"clave\": \"valor\", \"1\": 324, \"2\": \"Hola\"}\n",
    "print (dic[\"clave\"])\n",
    "\n",
    "#Conjuntos\n",
    "\n",
    "conjunto = {1, 3, \"hola\"}\n",
    "print(conjunto)"
   ]
  },
  {
   "cell_type": "markdown",
   "metadata": {},
   "source": [
    "## Condicionales, ciclos y funciones"
   ]
  },
  {
   "cell_type": "markdown",
   "metadata": {},
   "source": [
    "## IF, Else If, Else"
   ]
  },
  {
   "cell_type": "code",
   "execution_count": null,
   "metadata": {},
   "outputs": [],
   "source": [
    "age=18\n",
    "if age>18:\n",
    "    \n",
    "    print(\"you can enter\" )\n",
    "elif age==18:\n",
    "    print(\"go see Pink Floyd\")\n",
    "else:\n",
    "    print(\"go see Meat Loaf\" )\n",
    "    \n",
    "\n",
    "print(\"move on\")"
   ]
  },
  {
   "cell_type": "markdown",
   "metadata": {},
   "source": [
    "## Ciclo For"
   ]
  },
  {
   "cell_type": "code",
   "execution_count": null,
   "metadata": {},
   "outputs": [],
   "source": [
    "range(5)\n",
    "\n",
    "dates = [1982,1980,1973]\n",
    "N=len(dates)\n",
    "\n",
    "for i in range(N):\n",
    "     \n",
    "    print(dates[i])   "
   ]
  },
  {
   "cell_type": "markdown",
   "metadata": {},
   "source": [
    "identacion"
   ]
  },
  {
   "cell_type": "code",
   "execution_count": 43,
   "metadata": {},
   "outputs": [
    {
     "name": "stdout",
     "output_type": "stream",
     "text": [
      "0\n",
      "1\n",
      "2\n",
      "3\n",
      "4\n",
      "5\n",
      "6\n",
      "7\n"
     ]
    }
   ],
   "source": [
    "for i in range(0,8):\n",
    "    print(i)"
   ]
  },
  {
   "cell_type": "markdown",
   "metadata": {},
   "source": [
    "### Ciclo While"
   ]
  },
  {
   "cell_type": "code",
   "execution_count": null,
   "metadata": {},
   "outputs": [],
   "source": [
    "dates = [1982,1980,1973,2000]\n",
    "\n",
    "i=0;\n",
    "year=0\n",
    "while(year!=1973):\n",
    "    year=dates[i]\n",
    "    i=i+1\n",
    "    print(year)\n",
    "    \n",
    "    \n",
    "print(\"it took \", i ,\"repetitions to get out of loop\")"
   ]
  },
  {
   "cell_type": "markdown",
   "metadata": {},
   "source": [
    "## Lectura y escritura de archivos"
   ]
  },
  {
   "cell_type": "code",
   "execution_count": null,
   "metadata": {},
   "outputs": [],
   "source": [
    "example1=\"Example1.txt\"\n",
    "file1 = open(example1,\"r\")\n",
    "\n",
    "for line in file1:\n",
    "    print (line)\n",
    "file1.close()"
   ]
  },
  {
   "cell_type": "code",
   "execution_count": null,
   "metadata": {},
   "outputs": [],
   "source": [
    "with open(example1,\"r\") as file1:\n",
    "    FileContent=file1.read()\n",
    "    print(FileContent)"
   ]
  },
  {
   "cell_type": "code",
   "execution_count": null,
   "metadata": {},
   "outputs": [],
   "source": [
    "## Ejercicio. Escritura y concatenación de un texto en un archivo .txt"
   ]
  },
  {
   "cell_type": "markdown",
   "metadata": {},
   "source": [
    "## Reto: estudiar la librería Pandas para manejo de Datos"
   ]
  },
  {
   "cell_type": "code",
   "execution_count": null,
   "metadata": {},
   "outputs": [],
   "source": [
    "#df = pd.read_csv"
   ]
  }
 ],
 "metadata": {
  "kernelspec": {
   "display_name": "Python 3",
   "language": "python",
   "name": "python3"
  },
  "language_info": {
   "codemirror_mode": {
    "name": "ipython",
    "version": 3
   },
   "file_extension": ".py",
   "mimetype": "text/x-python",
   "name": "python",
   "nbconvert_exporter": "python",
   "pygments_lexer": "ipython3",
   "version": "3.7.2"
  }
 },
 "nbformat": 4,
 "nbformat_minor": 2
}
